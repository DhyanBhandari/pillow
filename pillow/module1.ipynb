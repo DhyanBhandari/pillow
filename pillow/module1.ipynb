{
 "cells": [
  {
   "cell_type": "markdown",
   "metadata": {},
   "source": [
    "### TRAINING THE PILLOW-MODEL:"
   ]
  },
  {
   "cell_type": "code",
   "execution_count": 1,
   "metadata": {},
   "outputs": [
    {
     "name": "stderr",
     "output_type": "stream",
     "text": [
      "C:\\Users\\sumit\\anaconda3\\lib\\site-packages\\numpy\\_distributor_init.py:32: UserWarning: loaded more than 1 DLL from .libs:\n",
      "C:\\Users\\sumit\\anaconda3\\lib\\site-packages\\numpy\\.libs\\libopenblas.PYQHXLVVQ7VESDPUVUADXEVJOBGHJPAY.gfortran-win_amd64.dll\n",
      "C:\\Users\\sumit\\anaconda3\\lib\\site-packages\\numpy\\.libs\\libopenblas.XWYDX2IKJW2NMTWSFYNGFUWKQU3LYTCZ.gfortran-win_amd64.dll\n",
      "  stacklevel=1)\n"
     ]
    }
   ],
   "source": [
    "#................................................Pillow-Training.....................................................#\n",
    "\n",
    "import os\n",
    "import time\n",
    "import joblib\n",
    "import warnings\n",
    "import numpy as np\n",
    "import pandas as pd\n",
    "from sklearn import metrics\n",
    "from sklearn.metrics import accuracy_score\n",
    "from sklearn.metrics import confusion_matrix  \n",
    "from sklearn.metrics import classification_report \n",
    "warnings.filterwarnings(action = 'ignore')\n",
    "from sklearn.neighbors import KNeighborsClassifier\n",
    "from sklearn.model_selection import train_test_split"
   ]
  },
  {
   "cell_type": "code",
   "execution_count": 2,
   "metadata": {},
   "outputs": [],
   "source": [
    "df = pd.read_csv(\"./PILLOW_DATASET/HeartBeat.csv\")"
   ]
  },
  {
   "cell_type": "code",
   "execution_count": 5,
   "metadata": {},
   "outputs": [
    {
     "data": {
      "text/html": [
       "<div>\n",
       "<style scoped>\n",
       "    .dataframe tbody tr th:only-of-type {\n",
       "        vertical-align: middle;\n",
       "    }\n",
       "\n",
       "    .dataframe tbody tr th {\n",
       "        vertical-align: top;\n",
       "    }\n",
       "\n",
       "    .dataframe thead th {\n",
       "        text-align: right;\n",
       "    }\n",
       "</style>\n",
       "<table border=\"1\" class=\"dataframe\">\n",
       "  <thead>\n",
       "    <tr style=\"text-align: right;\">\n",
       "      <th></th>\n",
       "      <th>Heart_Beat</th>\n",
       "      <th>Left_Sleep</th>\n",
       "      <th>Mid_Sleep</th>\n",
       "      <th>Right_Sleep</th>\n",
       "      <th>Result</th>\n",
       "    </tr>\n",
       "  </thead>\n",
       "  <tbody>\n",
       "    <tr>\n",
       "      <th>0</th>\n",
       "      <td>0</td>\n",
       "      <td>1</td>\n",
       "      <td>0</td>\n",
       "      <td>0</td>\n",
       "      <td>Danger-LeftSleep</td>\n",
       "    </tr>\n",
       "    <tr>\n",
       "      <th>1</th>\n",
       "      <td>1</td>\n",
       "      <td>1</td>\n",
       "      <td>0</td>\n",
       "      <td>0</td>\n",
       "      <td>Danger-LeftSleep</td>\n",
       "    </tr>\n",
       "    <tr>\n",
       "      <th>2</th>\n",
       "      <td>2</td>\n",
       "      <td>1</td>\n",
       "      <td>0</td>\n",
       "      <td>0</td>\n",
       "      <td>Danger-LeftSleep</td>\n",
       "    </tr>\n",
       "    <tr>\n",
       "      <th>3</th>\n",
       "      <td>3</td>\n",
       "      <td>1</td>\n",
       "      <td>0</td>\n",
       "      <td>0</td>\n",
       "      <td>Danger-LeftSleep</td>\n",
       "    </tr>\n",
       "    <tr>\n",
       "      <th>4</th>\n",
       "      <td>4</td>\n",
       "      <td>1</td>\n",
       "      <td>0</td>\n",
       "      <td>0</td>\n",
       "      <td>Danger-LeftSleep</td>\n",
       "    </tr>\n",
       "    <tr>\n",
       "      <th>...</th>\n",
       "      <td>...</td>\n",
       "      <td>...</td>\n",
       "      <td>...</td>\n",
       "      <td>...</td>\n",
       "      <td>...</td>\n",
       "    </tr>\n",
       "    <tr>\n",
       "      <th>67945</th>\n",
       "      <td>146</td>\n",
       "      <td>0</td>\n",
       "      <td>0</td>\n",
       "      <td>150</td>\n",
       "      <td>Snore-RightSleep</td>\n",
       "    </tr>\n",
       "    <tr>\n",
       "      <th>67946</th>\n",
       "      <td>147</td>\n",
       "      <td>0</td>\n",
       "      <td>0</td>\n",
       "      <td>150</td>\n",
       "      <td>Snore-RightSleep</td>\n",
       "    </tr>\n",
       "    <tr>\n",
       "      <th>67947</th>\n",
       "      <td>148</td>\n",
       "      <td>0</td>\n",
       "      <td>0</td>\n",
       "      <td>150</td>\n",
       "      <td>Snore-RightSleep</td>\n",
       "    </tr>\n",
       "    <tr>\n",
       "      <th>67948</th>\n",
       "      <td>149</td>\n",
       "      <td>0</td>\n",
       "      <td>0</td>\n",
       "      <td>150</td>\n",
       "      <td>Snore-RightSleep</td>\n",
       "    </tr>\n",
       "    <tr>\n",
       "      <th>67949</th>\n",
       "      <td>150</td>\n",
       "      <td>0</td>\n",
       "      <td>0</td>\n",
       "      <td>150</td>\n",
       "      <td>Snore-RightSleep</td>\n",
       "    </tr>\n",
       "  </tbody>\n",
       "</table>\n",
       "<p>67950 rows × 5 columns</p>\n",
       "</div>"
      ],
      "text/plain": [
       "       Heart_Beat  Left_Sleep  Mid_Sleep  Right_Sleep            Result\n",
       "0               0           1          0            0  Danger-LeftSleep\n",
       "1               1           1          0            0  Danger-LeftSleep\n",
       "2               2           1          0            0  Danger-LeftSleep\n",
       "3               3           1          0            0  Danger-LeftSleep\n",
       "4               4           1          0            0  Danger-LeftSleep\n",
       "...           ...         ...        ...          ...               ...\n",
       "67945         146           0          0          150  Snore-RightSleep\n",
       "67946         147           0          0          150  Snore-RightSleep\n",
       "67947         148           0          0          150  Snore-RightSleep\n",
       "67948         149           0          0          150  Snore-RightSleep\n",
       "67949         150           0          0          150  Snore-RightSleep\n",
       "\n",
       "[67950 rows x 5 columns]"
      ]
     },
     "execution_count": 5,
     "metadata": {},
     "output_type": "execute_result"
    }
   ],
   "source": [
    "df"
   ]
  },
  {
   "cell_type": "code",
   "execution_count": 6,
   "metadata": {},
   "outputs": [
    {
     "data": {
      "text/plain": [
       "(67950, 5)"
      ]
     },
     "execution_count": 6,
     "metadata": {},
     "output_type": "execute_result"
    }
   ],
   "source": [
    "df.shape"
   ]
  },
  {
   "cell_type": "code",
   "execution_count": 7,
   "metadata": {},
   "outputs": [
    {
     "name": "stdout",
     "output_type": "stream",
     "text": [
      "<class 'pandas.core.frame.DataFrame'>\n",
      "RangeIndex: 67950 entries, 0 to 67949\n",
      "Data columns (total 5 columns):\n",
      " #   Column       Non-Null Count  Dtype \n",
      "---  ------       --------------  ----- \n",
      " 0   Heart_Beat   67950 non-null  int64 \n",
      " 1   Left_Sleep   67950 non-null  int64 \n",
      " 2   Mid_Sleep    67950 non-null  int64 \n",
      " 3   Right_Sleep  67950 non-null  int64 \n",
      " 4   Result       67950 non-null  object\n",
      "dtypes: int64(4), object(1)\n",
      "memory usage: 2.6+ MB\n"
     ]
    }
   ],
   "source": [
    "df.info()"
   ]
  },
  {
   "cell_type": "code",
   "execution_count": 8,
   "metadata": {},
   "outputs": [
    {
     "data": {
      "text/html": [
       "<div>\n",
       "<style scoped>\n",
       "    .dataframe tbody tr th:only-of-type {\n",
       "        vertical-align: middle;\n",
       "    }\n",
       "\n",
       "    .dataframe tbody tr th {\n",
       "        vertical-align: top;\n",
       "    }\n",
       "\n",
       "    .dataframe thead th {\n",
       "        text-align: right;\n",
       "    }\n",
       "</style>\n",
       "<table border=\"1\" class=\"dataframe\">\n",
       "  <thead>\n",
       "    <tr style=\"text-align: right;\">\n",
       "      <th></th>\n",
       "      <th>Heart_Beat</th>\n",
       "      <th>Left_Sleep</th>\n",
       "      <th>Mid_Sleep</th>\n",
       "      <th>Right_Sleep</th>\n",
       "    </tr>\n",
       "  </thead>\n",
       "  <tbody>\n",
       "    <tr>\n",
       "      <th>count</th>\n",
       "      <td>67950.00000</td>\n",
       "      <td>67950.000000</td>\n",
       "      <td>67950.000000</td>\n",
       "      <td>67950.000000</td>\n",
       "    </tr>\n",
       "    <tr>\n",
       "      <th>mean</th>\n",
       "      <td>75.00000</td>\n",
       "      <td>25.166681</td>\n",
       "      <td>25.166681</td>\n",
       "      <td>25.166681</td>\n",
       "    </tr>\n",
       "    <tr>\n",
       "      <th>std</th>\n",
       "      <td>43.58931</td>\n",
       "      <td>43.493960</td>\n",
       "      <td>43.493960</td>\n",
       "      <td>43.493960</td>\n",
       "    </tr>\n",
       "    <tr>\n",
       "      <th>min</th>\n",
       "      <td>0.00000</td>\n",
       "      <td>0.000000</td>\n",
       "      <td>0.000000</td>\n",
       "      <td>0.000000</td>\n",
       "    </tr>\n",
       "    <tr>\n",
       "      <th>25%</th>\n",
       "      <td>37.00000</td>\n",
       "      <td>0.000000</td>\n",
       "      <td>0.000000</td>\n",
       "      <td>0.000000</td>\n",
       "    </tr>\n",
       "    <tr>\n",
       "      <th>50%</th>\n",
       "      <td>75.00000</td>\n",
       "      <td>0.000000</td>\n",
       "      <td>0.000000</td>\n",
       "      <td>0.000000</td>\n",
       "    </tr>\n",
       "    <tr>\n",
       "      <th>75%</th>\n",
       "      <td>113.00000</td>\n",
       "      <td>38.000000</td>\n",
       "      <td>38.000000</td>\n",
       "      <td>38.000000</td>\n",
       "    </tr>\n",
       "    <tr>\n",
       "      <th>max</th>\n",
       "      <td>150.00000</td>\n",
       "      <td>150.000000</td>\n",
       "      <td>150.000000</td>\n",
       "      <td>150.000000</td>\n",
       "    </tr>\n",
       "  </tbody>\n",
       "</table>\n",
       "</div>"
      ],
      "text/plain": [
       "        Heart_Beat    Left_Sleep     Mid_Sleep   Right_Sleep\n",
       "count  67950.00000  67950.000000  67950.000000  67950.000000\n",
       "mean      75.00000     25.166681     25.166681     25.166681\n",
       "std       43.58931     43.493960     43.493960     43.493960\n",
       "min        0.00000      0.000000      0.000000      0.000000\n",
       "25%       37.00000      0.000000      0.000000      0.000000\n",
       "50%       75.00000      0.000000      0.000000      0.000000\n",
       "75%      113.00000     38.000000     38.000000     38.000000\n",
       "max      150.00000    150.000000    150.000000    150.000000"
      ]
     },
     "execution_count": 8,
     "metadata": {},
     "output_type": "execute_result"
    }
   ],
   "source": [
    "df.describe()"
   ]
  },
  {
   "cell_type": "code",
   "execution_count": 9,
   "metadata": {},
   "outputs": [
    {
     "data": {
      "text/html": [
       "<div>\n",
       "<style scoped>\n",
       "    .dataframe tbody tr th:only-of-type {\n",
       "        vertical-align: middle;\n",
       "    }\n",
       "\n",
       "    .dataframe tbody tr th {\n",
       "        vertical-align: top;\n",
       "    }\n",
       "\n",
       "    .dataframe thead th {\n",
       "        text-align: right;\n",
       "    }\n",
       "</style>\n",
       "<table border=\"1\" class=\"dataframe\">\n",
       "  <thead>\n",
       "    <tr style=\"text-align: right;\">\n",
       "      <th></th>\n",
       "      <th>Heart_Beat</th>\n",
       "      <th>Left_Sleep</th>\n",
       "      <th>Mid_Sleep</th>\n",
       "      <th>Right_Sleep</th>\n",
       "      <th>Result</th>\n",
       "    </tr>\n",
       "  </thead>\n",
       "  <tbody>\n",
       "    <tr>\n",
       "      <th>0</th>\n",
       "      <td>0</td>\n",
       "      <td>1</td>\n",
       "      <td>0</td>\n",
       "      <td>0</td>\n",
       "      <td>Danger-LeftSleep</td>\n",
       "    </tr>\n",
       "    <tr>\n",
       "      <th>1</th>\n",
       "      <td>1</td>\n",
       "      <td>1</td>\n",
       "      <td>0</td>\n",
       "      <td>0</td>\n",
       "      <td>Danger-LeftSleep</td>\n",
       "    </tr>\n",
       "    <tr>\n",
       "      <th>2</th>\n",
       "      <td>2</td>\n",
       "      <td>1</td>\n",
       "      <td>0</td>\n",
       "      <td>0</td>\n",
       "      <td>Danger-LeftSleep</td>\n",
       "    </tr>\n",
       "    <tr>\n",
       "      <th>3</th>\n",
       "      <td>3</td>\n",
       "      <td>1</td>\n",
       "      <td>0</td>\n",
       "      <td>0</td>\n",
       "      <td>Danger-LeftSleep</td>\n",
       "    </tr>\n",
       "    <tr>\n",
       "      <th>4</th>\n",
       "      <td>4</td>\n",
       "      <td>1</td>\n",
       "      <td>0</td>\n",
       "      <td>0</td>\n",
       "      <td>Danger-LeftSleep</td>\n",
       "    </tr>\n",
       "    <tr>\n",
       "      <th>...</th>\n",
       "      <td>...</td>\n",
       "      <td>...</td>\n",
       "      <td>...</td>\n",
       "      <td>...</td>\n",
       "      <td>...</td>\n",
       "    </tr>\n",
       "    <tr>\n",
       "      <th>67945</th>\n",
       "      <td>146</td>\n",
       "      <td>0</td>\n",
       "      <td>0</td>\n",
       "      <td>150</td>\n",
       "      <td>Snore-RightSleep</td>\n",
       "    </tr>\n",
       "    <tr>\n",
       "      <th>67946</th>\n",
       "      <td>147</td>\n",
       "      <td>0</td>\n",
       "      <td>0</td>\n",
       "      <td>150</td>\n",
       "      <td>Snore-RightSleep</td>\n",
       "    </tr>\n",
       "    <tr>\n",
       "      <th>67947</th>\n",
       "      <td>148</td>\n",
       "      <td>0</td>\n",
       "      <td>0</td>\n",
       "      <td>150</td>\n",
       "      <td>Snore-RightSleep</td>\n",
       "    </tr>\n",
       "    <tr>\n",
       "      <th>67948</th>\n",
       "      <td>149</td>\n",
       "      <td>0</td>\n",
       "      <td>0</td>\n",
       "      <td>150</td>\n",
       "      <td>Snore-RightSleep</td>\n",
       "    </tr>\n",
       "    <tr>\n",
       "      <th>67949</th>\n",
       "      <td>150</td>\n",
       "      <td>0</td>\n",
       "      <td>0</td>\n",
       "      <td>150</td>\n",
       "      <td>Snore-RightSleep</td>\n",
       "    </tr>\n",
       "  </tbody>\n",
       "</table>\n",
       "<p>67950 rows × 5 columns</p>\n",
       "</div>"
      ],
      "text/plain": [
       "       Heart_Beat  Left_Sleep  Mid_Sleep  Right_Sleep            Result\n",
       "0               0           1          0            0  Danger-LeftSleep\n",
       "1               1           1          0            0  Danger-LeftSleep\n",
       "2               2           1          0            0  Danger-LeftSleep\n",
       "3               3           1          0            0  Danger-LeftSleep\n",
       "4               4           1          0            0  Danger-LeftSleep\n",
       "...           ...         ...        ...          ...               ...\n",
       "67945         146           0          0          150  Snore-RightSleep\n",
       "67946         147           0          0          150  Snore-RightSleep\n",
       "67947         148           0          0          150  Snore-RightSleep\n",
       "67948         149           0          0          150  Snore-RightSleep\n",
       "67949         150           0          0          150  Snore-RightSleep\n",
       "\n",
       "[67950 rows x 5 columns]"
      ]
     },
     "execution_count": 9,
     "metadata": {},
     "output_type": "execute_result"
    }
   ],
   "source": [
    "df#.head(10)"
   ]
  },
  {
   "cell_type": "code",
   "execution_count": 10,
   "metadata": {},
   "outputs": [],
   "source": [
    "y = df['Result'].values\n",
    "X = df.drop('Result', axis=1).values"
   ]
  },
  {
   "cell_type": "code",
   "execution_count": 11,
   "metadata": {},
   "outputs": [
    {
     "data": {
      "text/plain": [
       "array([[  0,   1,   0,   0],\n",
       "       [  1,   1,   0,   0],\n",
       "       [  2,   1,   0,   0],\n",
       "       ...,\n",
       "       [148,   0,   0, 150],\n",
       "       [149,   0,   0, 150],\n",
       "       [150,   0,   0, 150]], dtype=int64)"
      ]
     },
     "execution_count": 11,
     "metadata": {},
     "output_type": "execute_result"
    }
   ],
   "source": [
    "X"
   ]
  },
  {
   "cell_type": "code",
   "execution_count": 12,
   "metadata": {},
   "outputs": [
    {
     "data": {
      "text/plain": [
       "array(['Danger-LeftSleep', 'Danger-LeftSleep', 'Danger-LeftSleep', ...,\n",
       "       'Snore-RightSleep', 'Snore-RightSleep', 'Snore-RightSleep'],\n",
       "      dtype=object)"
      ]
     },
     "execution_count": 12,
     "metadata": {},
     "output_type": "execute_result"
    }
   ],
   "source": [
    "y"
   ]
  },
  {
   "cell_type": "code",
   "execution_count": 13,
   "metadata": {},
   "outputs": [],
   "source": [
    "knn = KNeighborsClassifier(n_neighbors=6)"
   ]
  },
  {
   "cell_type": "code",
   "execution_count": 14,
   "metadata": {},
   "outputs": [
    {
     "data": {
      "text/plain": [
       "KNeighborsClassifier(n_neighbors=6)"
      ]
     },
     "execution_count": 14,
     "metadata": {},
     "output_type": "execute_result"
    }
   ],
   "source": [
    "knn.fit(X,y)"
   ]
  },
  {
   "cell_type": "code",
   "execution_count": 15,
   "metadata": {
    "scrolled": true
   },
   "outputs": [
    {
     "name": "stdout",
     "output_type": "stream",
     "text": [
      "Prediction : ['Danger-LeftSleep' 'Danger-LeftSleep' 'Danger-LeftSleep' ...\n",
      " 'Snore-RightSleep' 'Snore-RightSleep' 'Snore-RightSleep']\n"
     ]
    }
   ],
   "source": [
    "y_pred = knn.predict(X)\n",
    "print(\"Prediction : {}\".format(y_pred))"
   ]
  },
  {
   "cell_type": "code",
   "execution_count": 16,
   "metadata": {
    "scrolled": true
   },
   "outputs": [
    {
     "name": "stdout",
     "output_type": "stream",
     "text": [
      "Pillow_Model Accuracy: 100.0\n"
     ]
    }
   ],
   "source": [
    "print(\"Pillow_Model Accuracy:\",metrics.accuracy_score(y, y_pred)*100)"
   ]
  },
  {
   "cell_type": "code",
   "execution_count": 17,
   "metadata": {},
   "outputs": [
    {
     "data": {
      "text/plain": [
       "['Pillow_model.pkl']"
      ]
     },
     "execution_count": 17,
     "metadata": {},
     "output_type": "execute_result"
    }
   ],
   "source": [
    "joblib.dump(knn,'Pillow_model.pkl')"
   ]
  },
  {
   "cell_type": "code",
   "execution_count": 18,
   "metadata": {},
   "outputs": [
    {
     "name": "stdout",
     "output_type": "stream",
     "text": [
      "Confusion Matrix :\n",
      "[[9150    0    0    0    0    0    0    0    0]\n",
      " [   0 9150    0    0    0    0    0    0    0]\n",
      " [   0    0 9150    0    0    0    0    0    0]\n",
      " [   0    0    0 6000    0    0    0    0    0]\n",
      " [   0    0    0    0 6000    0    0    0    0]\n",
      " [   0    0    0    0    0 6000    0    0    0]\n",
      " [   0    0    0    0    0    0 7500    0    0]\n",
      " [   0    0    0    0    0    0    0 7500    0]\n",
      " [   0    0    0    0    0    0    0    0 7500]]\n",
      "Accuracy Score : 1.0\n",
      "Report :\n",
      "                   precision    recall  f1-score   support\n",
      "\n",
      " Danger-LeftSleep       1.00      1.00      1.00      9150\n",
      "  Danger-MidSleep       1.00      1.00      1.00      9150\n",
      "Danger-RightSleep       1.00      1.00      1.00      9150\n",
      " Normal-LeftSleep       1.00      1.00      1.00      6000\n",
      "  Normal-MidSleep       1.00      1.00      1.00      6000\n",
      "Normal-RightSleep       1.00      1.00      1.00      6000\n",
      "  Snore-LeftSleep       1.00      1.00      1.00      7500\n",
      "   Snore-MidSleep       1.00      1.00      1.00      7500\n",
      " Snore-RightSleep       1.00      1.00      1.00      7500\n",
      "\n",
      "         accuracy                           1.00     67950\n",
      "        macro avg       1.00      1.00      1.00     67950\n",
      "     weighted avg       1.00      1.00      1.00     67950\n",
      "\n"
     ]
    }
   ],
   "source": [
    "results = confusion_matrix(y, y_pred) \n",
    "print('Confusion Matrix :')\n",
    "print(results) \n",
    "print('Accuracy Score :',accuracy_score(y, y_pred))\n",
    "print('Report :')\n",
    "print(classification_report(y, y_pred))"
   ]
  },
  {
   "cell_type": "code",
   "execution_count": null,
   "metadata": {},
   "outputs": [],
   "source": []
  }
 ],
 "metadata": {
  "kernelspec": {
   "display_name": "Python 3 (ipykernel)",
   "language": "python",
   "name": "python3"
  },
  "language_info": {
   "codemirror_mode": {
    "name": "ipython",
    "version": 3
   },
   "file_extension": ".py",
   "mimetype": "text/x-python",
   "name": "python",
   "nbconvert_exporter": "python",
   "pygments_lexer": "ipython3",
   "version": "3.7.6"
  }
 },
 "nbformat": 4,
 "nbformat_minor": 2
}

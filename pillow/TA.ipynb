{
 "cells": [
  {
   "cell_type": "code",
   "execution_count": 5,
   "metadata": {},
   "outputs": [
    {
     "name": "stdout",
     "output_type": "stream",
     "text": [
      "True\n"
     ]
    }
   ],
   "source": [
    "\n",
    "import os\n",
    "\n",
    "import os\n",
    "\n",
    "from web3 import Web3\n",
    "import json\n",
    "\n",
    "url1 = \"http://localhost:7545\"\n",
    "web3 = Web3(Web3.HTTPProvider(url1))\n",
    "print(web3.isConnected())\n",
    "web3.eth.defaultAccount = web3.eth.accounts[0]\n",
    "address1=web3.toChecksumAddress('0x8707FC11C4AA64188BC483a102b7E0B2A54798aC')\n",
    "abi1 = json.loads('[{\"constant\":true,\"inputs\":[],\"name\":\"get_data\",\"outputs\":[{\"name\":\"\",\"type\":\"string\"}],\"payable\":false,\"stateMutability\":\"view\",\"type\":\"function\"},{\"constant\":false,\"inputs\":[{\"name\":\"_name\",\"type\":\"string\"}],\"name\":\"set_data\",\"outputs\":[],\"payable\":false,\"stateMutability\":\"nonpayable\",\"type\":\"function\"},{\"constant\":true,\"inputs\":[],\"name\":\"data\",\"outputs\":[{\"name\":\"\",\"type\":\"string\"}],\"payable\":false,\"stateMutability\":\"view\",\"type\":\"function\"}]')\n",
    "contract = web3.eth.contract(address=address1, abi=abi1)"
   ]
  },
  {
   "cell_type": "code",
   "execution_count": null,
   "metadata": {},
   "outputs": [
    {
     "name": "stdout",
     "output_type": "stream",
     "text": [
      "old data \n",
      "old data %%@@93#92.18#82@@92.18#0#148#7@@Health condition is Moderate@@Normal@@18-07-2022@@10-32-00\n",
      "old data %%@@93#92.18#82@@92.18#0#148#7@@Health condition is Moderate@@Normal@@18-07-2022@@10-32-00%%@@93#92.18#82@@92.18#0#142#10@@Health condition is Moderate@@Normal@@18-07-2022@@10-32-15\n",
      "old data %%@@93#92.18#82@@92.18#0#148#7@@Health condition is Moderate@@Normal@@18-07-2022@@10-32-00%%@@93#92.18#82@@92.18#0#142#10@@Health condition is Moderate@@Normal@@18-07-2022@@10-32-15%%@@93#92.18#82@@92.18#0#137#9@@Health condition is Moderate@@Normal@@18-07-2022@@10-32-30\n",
      "old data %%@@93#92.18#82@@92.18#0#148#7@@Health condition is Moderate@@Normal@@18-07-2022@@10-32-00%%@@93#92.18#82@@92.18#0#142#10@@Health condition is Moderate@@Normal@@18-07-2022@@10-32-15%%@@93#92.18#82@@92.18#0#137#9@@Health condition is Moderate@@Normal@@18-07-2022@@10-32-30%%@@93#92.18#82@@92.18#0#132#12@@Health condition is Moderate@@Normal@@18-07-2022@@10-32-45\n",
      "old data %%@@93#92.18#82@@92.18#0#148#7@@Health condition is Moderate@@Normal@@18-07-2022@@10-32-00%%@@93#92.18#82@@92.18#0#142#10@@Health condition is Moderate@@Normal@@18-07-2022@@10-32-15%%@@93#92.18#82@@92.18#0#137#9@@Health condition is Moderate@@Normal@@18-07-2022@@10-32-30%%@@93#92.18#82@@92.18#0#132#12@@Health condition is Moderate@@Normal@@18-07-2022@@10-32-45%%@@93#92.18#82@@92.18#0#132#12@@Health condition is Moderate@@Normal@@18-07-2022@@10-33-00\n",
      "old data %%@@93#92.18#82@@92.18#0#148#7@@Health condition is Moderate@@Normal@@18-07-2022@@10-32-00%%@@93#92.18#82@@92.18#0#142#10@@Health condition is Moderate@@Normal@@18-07-2022@@10-32-15%%@@93#92.18#82@@92.18#0#137#9@@Health condition is Moderate@@Normal@@18-07-2022@@10-32-30%%@@93#92.18#82@@92.18#0#132#12@@Health condition is Moderate@@Normal@@18-07-2022@@10-32-45%%@@93#92.18#82@@92.18#0#132#12@@Health condition is Moderate@@Normal@@18-07-2022@@10-33-00%%@@93#92.18#82@@92.18#0#132#12@@Health condition is Moderate@@Normal@@18-07-2022@@10-33-15\n"
     ]
    }
   ],
   "source": [
    "\n",
    "\n",
    "\n",
    "\n",
    "while(True):\n",
    "    f=open(\"task.txt\",'r')\n",
    "    task=f.read()\n",
    "    f.close()\n",
    "    \n",
    "   \n",
    "    if task=='add_data':\n",
    "        f=open('input.txt','r')\n",
    "        rid=f.read()\n",
    "        f.close()\n",
    "        if rid!='':\n",
    "            f=open('input.txt','r')\n",
    "            data=f.read()\n",
    "            f.close()\n",
    "            \n",
    "            \n",
    "\n",
    "            chain_data=contract.functions.get_data().call()\n",
    "            print(\"old data\",chain_data)\n",
    "            new_data=chain_data+\"%%@@\"+data\n",
    "            resp = contract.functions.set_data(new_data).transact()\n",
    "            web3.eth.waitForTransactionReceipt(resp)\n",
    "            \n",
    "            f=open(\"task.txt\",'w')\n",
    "            f.write('')\n",
    "            f.close()\n",
    "   "
   ]
  },
  {
   "cell_type": "code",
   "execution_count": null,
   "metadata": {},
   "outputs": [],
   "source": []
  }
 ],
 "metadata": {
  "kernelspec": {
   "display_name": "Python 3 (ipykernel)",
   "language": "python",
   "name": "python3"
  },
  "language_info": {
   "codemirror_mode": {
    "name": "ipython",
    "version": 3
   },
   "file_extension": ".py",
   "mimetype": "text/x-python",
   "name": "python",
   "nbconvert_exporter": "python",
   "pygments_lexer": "ipython3",
   "version": "3.9.7"
  }
 },
 "nbformat": 4,
 "nbformat_minor": 4
}
